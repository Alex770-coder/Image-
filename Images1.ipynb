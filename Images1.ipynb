{
  "nbformat": 4,
  "nbformat_minor": 0,
  "metadata": {
    "colab": {
      "provenance": [],
      "authorship_tag": "ABX9TyNJn4G17zmAMZxQeDdjVdYK",
      "include_colab_link": true
    },
    "kernelspec": {
      "name": "python3",
      "display_name": "Python 3"
    },
    "language_info": {
      "name": "python"
    }
  },
  "cells": [
    {
      "cell_type": "markdown",
      "metadata": {
        "id": "view-in-github",
        "colab_type": "text"
      },
      "source": [
        "<a href=\"https://colab.research.google.com/github/Alex770-coder/Image-/blob/main/Images1.ipynb\" target=\"_parent\"><img src=\"https://colab.research.google.com/assets/colab-badge.svg\" alt=\"Open In Colab\"/></a>"
      ]
    },
    {
      "cell_type": "code",
      "execution_count": null,
      "metadata": {
        "id": "ArxBXgmJ19lg"
      },
      "outputs": [],
      "source": [
        "#color space and conversion\n",
        "import cv2\n",
        "image = cv2.imread('animal.jpg')\n",
        "rgb_image = cv2.cvtColor(image, cv2.COLOR_BGR2RGB)\n",
        "gray_image = cv2.cvtColor(image, cv2.COLOR_BGR2GRAY)\n",
        "hsv_image = cv2.cvtColor(image, cv2.COLOR_BGR2HSV)\n",
        "cv2.imshow('Original Image', image)\n",
        "cv2.imshow('RGB Image', rgb_image)\n",
        "cv2.imshow('Grayscale Image', gray_image)\n",
        "cv2.imshow('HSV Image', hsv_image)\n",
        "cv2.waitKey(0)\n",
        "cv2.destroyAllWindows()"
      ]
    },
    {
      "cell_type": "code",
      "source": [
        "#convolution\n",
        "import cv2\n",
        "import numpy as np\n",
        "image = cv2.imread(\"animal.jpg\")\n",
        "kernel = np.array([[0, -1, 0],\n",
        "[-1, 5, -1],\n",
        "[0, -1, 0]])\n",
        "convolved_image = cv2.filter2D(image, -1, kernel)\n",
        "cv2.imshow('Original Image', image)\n",
        "cv2.imshow('Convolved Image', convolved_image)\n",
        "cv2.waitKey(0)\n",
        "cv2.destroyAllWindows()"
      ],
      "metadata": {
        "id": "emFDQfL62Wuj"
      },
      "execution_count": null,
      "outputs": []
    },
    {
      "cell_type": "code",
      "source": [
        "#image smoothing\n",
        "import cv2\n",
        "import numpy as np\n",
        "image = cv2.imread('animal.jpg')\n",
        "blurred_image = cv2.GaussianBlur(image, (5, 5), 3)\n",
        "median_blurred_image = cv2.medianBlur(image, 9)\n",
        "bilateral_filtered_image = cv2.bilateralFilter(image, 30, 55, 55)\n",
        "cv2.imshow('Original Image', image)\n",
        "cv2.imshow('Gaussian Blurred Image', blurred_image)\n",
        "cv2.imshow('Median Blurred Image', median_blurred_image)\n",
        "cv2.imshow('Bilateral Filtered Image', bilateral_filtered_image)\n",
        "cv2.waitKey(0)\n",
        "cv2.destroyAllWindows()"
      ],
      "metadata": {
        "id": "yGot0V_O2ja1"
      },
      "execution_count": null,
      "outputs": []
    },
    {
      "cell_type": "code",
      "source": [
        "#image gradients\n",
        "import cv2\n",
        "import numpy as np\n",
        "img = cv2.imread(\"animal.jpg\")\n",
        "gray_img = cv2.cvtColor(img, cv2.COLOR_BGR2GRAY)\n",
        "kernel_x = np.array([[-1, 0, 1], [-2, 0, 2], [-1, 0, 1]])\n",
        "kernel_y = np.array([[1, 2, 1], [0, 0, 0], [-1, -2, -1]])\n",
        "img_x = cv2.filter2D(gray_img, -1, kernel_x)\n",
        "img_y = cv2.filter2D(gray_img, -1, kernel_y)\n",
        "new = np.hypot(img_x, img_y)\n",
        "new = np.uint8(new)\n",
        "cv2.imshow('Sobel Edge Detection', new)\n",
        "cv2.waitKey(0)\n",
        "cv2.destroyAllWindows()"
      ],
      "metadata": {
        "id": "9W6KY-TT2sdI"
      },
      "execution_count": null,
      "outputs": []
    },
    {
      "cell_type": "code",
      "source": [
        "#edge detection\n",
        "import cv2\n",
        "frame = cv2.imread(\"animal.jpg\")\n",
        "gray = cv2.cvtColor(frame, cv2.COLOR_BGR2GRAY)\n",
        "blurred = cv2.GaussianBlur(gray, (3, 5), sigmaX=0.5)\n",
        "edges = cv2.Canny(blurred, 70, 135)\n",
        "cv2.imshow('Original Image', frame)\n",
        "cv2.imshow('Edges', edges)\n",
        "cv2.waitKey(0)\n",
        "cv2.destroyAllWindows()"
      ],
      "metadata": {
        "id": "XqP7LUdX21Gm"
      },
      "execution_count": null,
      "outputs": []
    },
    {
      "cell_type": "code",
      "source": [
        "#hough\n",
        "import cv2\n",
        "import numpy as np\n",
        "image = cv2.imread('bird.jpg')\n",
        "gray = cv2.cvtColor(image, cv2.COLOR_BGR2GRAY)\n",
        "edges = cv2.Canny(gray, 50, 150, apertureSize=3)\n",
        "lines = cv2.HoughLinesP(edges, 1, np.pi / 180, threshold=100, minLineLength=5, maxLineGap=20)\n",
        "if lines is not None:\n",
        "for points in lines:\n",
        "x1, y1, x2, y2 = points[0]\n",
        "cv2.line(image, (x1, y1), (x2, y2), (0, 255, 0), 2)\n",
        "cv2.imshow('Detected Lines', image)\n",
        "cv2.waitKey(0)\n",
        "cv2.destroyAllWindows()"
      ],
      "metadata": {
        "id": "bY5niKXD26kZ"
      },
      "execution_count": null,
      "outputs": []
    },
    {
      "cell_type": "code",
      "source": [
        "#orb\n",
        "import cv2\n",
        "img = cv2.imread('music_home.jpg')\n",
        "gray = cv2.cvtColor(img, cv2.COLOR_BGR2GRAY)\n",
        "orb = cv2.ORB_create()\n",
        "keypoints, descriptors = orb.detectAndCompute(gray, None)\n",
        "print(\"Number of keypoints detected:\", len(keypoints))\n",
        "img_with_keypoints = cv2.drawKeypoints(gray, keypoints, None, color=(0, 255, 0),\n",
        "flags=cv2.DRAW_MATCHES_FLAGS_DRAW_RICH_KEYPOINTS)\n",
        "cv2.imshow('Image with Keypoints', img_with_keypoints)\n",
        "cv2.waitKey(0)\n",
        "cv2.destroyAllWindows()"
      ],
      "metadata": {
        "id": "pOXQe0tn3Gpn"
      },
      "execution_count": null,
      "outputs": []
    },
    {
      "cell_type": "code",
      "source": [
        "#cloning\n",
        "import cv2\n",
        "import numpy as np\n",
        "image = cv2.imread('bird.jpg')\n",
        "offset = 10\n",
        "num_clones = 3\n",
        "height, width, _ = image.shape\n",
        "new_image = np.zeros((height, width * num_clones + (num_clones - 1) * offset, 3), dtype=np.uint8)\n",
        "for i in range(num_clones):\n",
        "x_offset = i * (width + offset)\n",
        "new_image[:, x_offset:x_offset + width] = image\n",
        "cv2.imshow('Cloned Image', new_image)\n",
        "cv2.waitKey(0)\n",
        "cv2.destroyAllWindows()"
      ],
      "metadata": {
        "id": "oVZmWxUK3LM2"
      },
      "execution_count": null,
      "outputs": []
    }
  ]
}