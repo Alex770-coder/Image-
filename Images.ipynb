{
  "nbformat": 4,
  "nbformat_minor": 0,
  "metadata": {
    "colab": {
      "provenance": [],
      "authorship_tag": "ABX9TyNtkbuDNmb/OP5Gj7gvIx+u",
      "include_colab_link": true
    },
    "kernelspec": {
      "name": "python3",
      "display_name": "Python 3"
    },
    "language_info": {
      "name": "python"
    }
  },
  "cells": [
    {
      "cell_type": "markdown",
      "metadata": {
        "id": "view-in-github",
        "colab_type": "text"
      },
      "source": [
        "<a href=\"https://colab.research.google.com/github/Alex770-coder/Image-/blob/main/Images.ipynb\" target=\"_parent\"><img src=\"https://colab.research.google.com/assets/colab-badge.svg\" alt=\"Open In Colab\"/></a>"
      ]
    },
    {
      "cell_type": "code",
      "execution_count": null,
      "metadata": {
        "id": "F9AMTKJNp16z"
      },
      "outputs": [],
      "source": [
        "#cropping\n",
        "import cv2\n",
        "image = cv2.imread('computer_boy.jpg')\n",
        "x = 100\n",
        "y = 200\n",
        "width = 200\n",
        "height = 300\n",
        "crop = image[y:y+height, x:x+width]\n",
        "cv2.imshow('Cropped Image', crop)\n",
        "cv2.waitKey(0)\n",
        "cv2.destroyAllWindows()"
      ]
    },
    {
      "cell_type": "code",
      "source": [
        "#resize\n",
        "import cv2\n",
        "image = cv2.imread('computer_boy.jpg')\n",
        "newsize = (100, 400)\n",
        "new_image = cv2.resize(image, newsize)\n",
        "cv2.imshow('Resized Image', new_image)\n",
        "cv2.waitKey(0)\n",
        "cv2.destroyAllWindows()"
      ],
      "metadata": {
        "id": "VowBM6PfqXHS"
      },
      "execution_count": null,
      "outputs": []
    },
    {
      "cell_type": "code",
      "source": [
        "#threshold\n",
        "import cv2\n",
        "import numpy as np\n",
        "image = cv2.imread('computer_boy.jpg')\n",
        "ret, thresh1 = cv2.threshold(image, 128, 255, cv2.THRESH_BINARY)\n",
        "cv2.imshow('Binary Thresholding', thresh1)\n",
        "image_gray = cv2.cvtColor(image, cv2.COLOR_BGR2GRAY)\n",
        "thresh2 = cv2.adaptiveThreshold(image_gray, 255, cv2.ADAPTIVE_THRESH_GAUSSIAN_C, cv2.THRESH_BINARY, 199,\n",
        "5)\n",
        "cv2.imshow('Adaptive Thresholding', thresh2)\n",
        "cv2.waitKey(0)\n",
        "cv2.destroyAllWindows()"
      ],
      "metadata": {
        "id": "VmtyFwc1qe9H"
      },
      "execution_count": null,
      "outputs": []
    },
    {
      "cell_type": "code",
      "source": [
        "#contour\n",
        "import cv2\n",
        "import numpy as np\n",
        "image = cv2.imread(\"computer_boy.jpg\")\n",
        "gray = cv2.cvtColor(image, cv2.COLOR_BGR2GRAY)\n",
        "edged = cv2.Canny(gray, 30, 200)\n",
        "contours, hierarchy = cv2.findContours(edged, cv2.RETR_EXTERNAL, cv2.CHAIN_APPROX_NONE)\n",
        "cv2.drawContours(image, contours, -1, (255,0,0), 3)\n",
        "cv2.imshow('Contours', image)\n",
        "cv2.waitKey(0)\n",
        "cv2.destroyAllWindows()"
      ],
      "metadata": {
        "id": "foUc2W04qi2z"
      },
      "execution_count": null,
      "outputs": []
    },
    {
      "cell_type": "code",
      "source": [
        "#bolb\n",
        "import cv2\n",
        "import numpy as np\n",
        "image = cv2.imread(\"computer_boy.jpg\", cv2.IMREAD_GRAYSCALE)\n",
        "detector = cv2.SimpleBlobDetector_create()\n",
        "keypoints = detector.detect(image)\n",
        "image_with_keypoints = cv2.drawKeypoints(image, keypoints, np.array([]), (0, 0, 255),\n",
        "cv2.DRAW_MATCHES_FLAGS_DRAW_RICH_KEYPOINTS)\n",
        "cv2.imshow('Image with Keypoints', image_with_keypoints)\n",
        "cv2.waitKey(0)\n",
        "cv2.destroyAllWindows()"
      ],
      "metadata": {
        "id": "SHs7ekOXqoY0"
      },
      "execution_count": null,
      "outputs": []
    },
    {
      "cell_type": "code",
      "source": [
        "#draw lines\n",
        "import cv2\n",
        "image = cv2.imread(\"fish.jpg\")\n",
        "start_point = (1, 50)\n",
        "end_point = (125, 80)\n",
        "color = (0, 0, 255)\n",
        "thickness = 5\n",
        "an_image = cv2.line(image, start_point, end_point, color, thickness)\n",
        "cv2.imshow('Image with Line', an_image)\n",
        "cv2.waitKey(0)\n",
        "cv2.destroyAllWindows()"
      ],
      "metadata": {
        "id": "4EgFDvfFqtir"
      },
      "execution_count": null,
      "outputs": []
    },
    {
      "cell_type": "code",
      "source": [
        "#rectangle\n",
        "import cv2\n",
        "image = cv2.imread(\"fish.jpg\")\n",
        "start_point = (100, 50)\n",
        "end_point = (125, 80)\n",
        "color = (255, 255, 0)\n",
        "thickness = 5\n",
        "an_image = cv2.rectangle(image, start_point, end_point, color, thickness)\n",
        "cv2.imshow('Image with Rectangle', an_image)\n",
        "cv2.waitKey(0)\n",
        "cv2.destroyAllWindows()"
      ],
      "metadata": {
        "id": "5TGnUoErqz_6"
      },
      "execution_count": null,
      "outputs": []
    },
    {
      "cell_type": "code",
      "source": [
        "#circle\n",
        "import cv2\n",
        "image = cv2.imread(\"fish.jpg\")\n",
        "center_coordinates = (160, 100)\n",
        "radius = 40\n",
        "color = (255, 255, 255)\n",
        "thickness = 50\n",
        "an_image = cv2.circle(image, center_coordinates, radius, color, thickness)\n",
        "cv2.imshow('Image with Circle', an_image)\n",
        "cv2.waitKey(0)\n",
        "cv2.destroyAllWindows()"
      ],
      "metadata": {
        "id": "wSVrNHQEq4ym"
      },
      "execution_count": null,
      "outputs": []
    },
    {
      "cell_type": "code",
      "source": [
        "#eclipse\n",
        "import cv2\n",
        "image = cv2.imread('fish.jpg')\n",
        "center_coordinates = (100, 100)\n",
        "axes_length = (65, 25)\n",
        "angle = 0\n",
        "start_angle = 0\n",
        "end_angle = 360\n",
        "color = (255, 300, 100)\n",
        "thickness = 5\n",
        "an_image = cv2.ellipse(image, center_coordinates, axes_length, angle, start_angle, end_angle, color, thickness)\n",
        "cv2.imshow('Image with Ellipse', an_image)\n",
        "cv2.waitKey(0)\n",
        "cv2.destroyAllWindows()"
      ],
      "metadata": {
        "id": "yr7T2wl_q9ew"
      },
      "execution_count": null,
      "outputs": []
    }
  ]
}